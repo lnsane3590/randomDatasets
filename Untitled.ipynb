{
 "cells": [
  {
   "cell_type": "code",
   "execution_count": 11,
   "id": "c07b7fbd",
   "metadata": {},
   "outputs": [
    {
     "name": "stdout",
     "output_type": "stream",
     "text": [
      "HII\n"
     ]
    }
   ],
   "source": [
    "print('HII')"
   ]
  },
  {
   "cell_type": "code",
   "execution_count": 12,
   "id": "79c1c71f",
   "metadata": {},
   "outputs": [],
   "source": [
    "import pandas as pd\n",
    "import matplotlib.pyplot as plt\n",
    "import numpy as np\n",
    "print('Hello')"
   ]
  },
  {
   "cell_type": "code",
   "execution_count": null,
   "id": "57612b90",
   "metadata": {},
   "outputs": [
    {
     "name": "stdout",
     "output_type": "stream",
     "text": [
      "0.9990889488055994\n"
     ]
    }
   ],
   "source": [
    "def sigmoid(x):\n",
    "  # Наша функция активации: f(x) = 1 / (1 + e^(-x))\n",
    "  return 1 / (1 + np.exp(-x))\n",
    "\n",
    "class Neuron:\n",
    "    def __init__(self, weights, bias):\n",
    "        self.weights = weights\n",
    "        self.bias = bias\n",
    "\n",
    "    def feedforward(self, inputs):\n",
    "    # Умножаем входы на веса, прибавляем порог, затем используем функцию активации\n",
    "        total = np.dot(self.weights, inputs) + self.bias\n",
    "        return sigmoid(total)\n",
    "\n",
    "weights = np.array([0, 1]) # w1 = 0, w2 = 1\n",
    "bias = 4                   # b = 4\n",
    "n = Neuron(weights, bias)\n",
    "\n",
    "x = np.array([2, 3])       # x1 = 2, x2 = 3\n",
    "print(n.feedforward(x))    # 0.9990889488055994"
   ]
  },
  {
   "cell_type": "code",
   "execution_count": null,
   "id": "49594402",
   "metadata": {},
   "outputs": [
    {
     "name": "stdout",
     "output_type": "stream",
     "text": [
      "0.7216325609518421\n"
     ]
    }
   ],
   "source": [
    "class OurNeuralNetwork:\n",
    "    '''\n",
    "  Нейронная сеть с:\n",
    "    - 2 входами\n",
    "    - скрытым слоем с 2 нейронами (h1, h2)\n",
    "    - выходным слоем с 1 нейроном (o1)\n",
    "  Все нейроны имеют одинаковые веса и пороги:\n",
    "    - w = [0, 1]\n",
    "    - b = 0\n",
    "  '''\n",
    "    def __init__(self):\n",
    "        weights = np.array([0, 1])\n",
    "        bias = 0\n",
    "\n",
    "    # Используем класс Neuron из предыдущего раздела\n",
    "        self.h1 = Neuron(weights, bias)\n",
    "        self.h2 = Neuron(weights, bias)\n",
    "        self.o1 = Neuron(weights, bias)\n",
    "\n",
    "    def feedforward(self, x):\n",
    "        out_h1 = self.h1.feedforward(x)\n",
    "        out_h2 = self.h2.feedforward(x)\n",
    "\n",
    "    # Входы для o1 - это выходы h1 и h2\n",
    "        out_o1 = self.o1.feedforward(np.array([out_h1, out_h2]))\n",
    "        return out_o1\n",
    "\n",
    "network = OurNeuralNetwork()\n",
    "x = np.array([2, 3])\n",
    "print(network.feedforward(x)) # 0.7216325609518421"
   ]
  },
  {
   "cell_type": "code",
   "execution_count": null,
   "id": "fd530e9c",
   "metadata": {},
   "outputs": [
    {
     "name": "stdout",
     "output_type": "stream",
     "text": [
      "0.5\n"
     ]
    }
   ],
   "source": [
    "def mse_loss(y_true, y_pred):\n",
    "  # y_true и y_pred - массивы numpy одинаковой длины.\n",
    "  return ((y_true - y_pred) ** 2).mean()\n",
    "\n",
    "y_true = np.array([1, 0, 0, 1])\n",
    "y_pred = np.array([0, 0, 0, 0])\n",
    "\n",
    "print(mse_loss(y_true, y_pred)) # 0.5"
   ]
  },
  {
   "cell_type": "code",
   "execution_count": null,
   "id": "e8332274",
   "metadata": {},
   "outputs": [],
   "source": [
    "def sigmoid(x):\n",
    "  # Сигмоидная функция активации: f(x) = 1 / (1 + e^(-x))\n",
    "  return 1 / (1 + np.exp(-x))\n",
    "\n",
    "def deriv_sigmoid(x):\n",
    "  # Производная сигмоиды: f'(x) = f(x) * (1 - f(x))\n",
    "    fx = sigmoid(x)\n",
    "    return fx * (1 - fx)\n",
    "\n",
    "def mse_loss(y_true, y_pred):\n",
    "  # y_true и y_pred - массивы numpy одинаковой длины.\n",
    "    return ((y_true - y_pred) ** 2).mean()\n",
    "\n",
    "class OurNeuralNetwork:\n",
    "    def __init__(self):\n",
    "    # Веса\n",
    "        self.w1 = np.random.normal()\n",
    "        self.w2 = np.random.normal()\n",
    "        self.w3 = np.random.normal()\n",
    "        self.w4 = np.random.normal()\n",
    "        self.w5 = np.random.normal()\n",
    "        self.w6 = np.random.normal()\n",
    "\n",
    "    # Пороги\n",
    "        self.b1 = np.random.normal()\n",
    "        self.b2 = np.random.normal()\n",
    "        self.b3 = np.random.normal()\n",
    "\n",
    "    def feedforward(self, x):\n",
    "    # x is a numpy array with 2 elements.\n",
    "        h1 = sigmoid(self.w1 * x[0] + self.w2 * x[1] + self.b1)\n",
    "        h2 = sigmoid(self.w3 * x[0] + self.w4 * x[1] + self.b2)\n",
    "        o1 = sigmoid(self.w5 * h1 + self.w6 * h2 + self.b3)\n",
    "        return o1\n",
    "\n",
    "    def train(self, data, all_y_trues):\n",
    "        learn_rate = 0.1\n",
    "        epochs = 1000 # сколько раз пройти по всему набору данных \n",
    "\n",
    "        for epoch in range(epochs):\n",
    "            for x, y_true in zip(data, all_y_trues):\n",
    "        # --- Прямой проход (эти значения нам понадобятся позже)\n",
    "                sum_h1 = self.w1 * x[0] + self.w2 * x[1] + self.b1\n",
    "                h1 = sigmoid(sum_h1)\n",
    "\n",
    "                sum_h2 = self.w3 * x[0] + self.w4 * x[1] + self.b2\n",
    "                h2 = sigmoid(sum_h2)\n",
    "\n",
    "                sum_o1 = self.w5 * h1 + self.w6 * h2 + self.b3\n",
    "                o1 = sigmoid(sum_o1)\n",
    "                y_pred = o1\n",
    "\n",
    "        # --- Считаем частные производные.\n",
    "        # --- Имена: d_L_d_w1 = \"частная производная L по w1\"\n",
    "                d_L_d_ypred = -2 * (y_true - y_pred)\n",
    "\n",
    "        # Нейрон o1\n",
    "                d_ypred_d_w5 = h1 * deriv_sigmoid(sum_o1)\n",
    "                d_ypred_d_w6 = h2 * deriv_sigmoid(sum_o1)\n",
    "                d_ypred_d_b3 = deriv_sigmoid(sum_o1)\n",
    "\n",
    "                d_ypred_d_h1 = self.w5 * deriv_sigmoid(sum_o1)\n",
    "                d_ypred_d_h2 = self.w6 * deriv_sigmoid(sum_o1)\n",
    "\n",
    "        # Нейрон h1\n",
    "                d_h1_d_w1 = x[0] * deriv_sigmoid(sum_h1)\n",
    "                d_h1_d_w2 = x[1] * deriv_sigmoid(sum_h1)\n",
    "                d_h1_d_b1 = deriv_sigmoid(sum_h1)\n",
    "\n",
    "        # Нейрон h2\n",
    "                d_h2_d_w3 = x[0] * deriv_sigmoid(sum_h2)\n",
    "                d_h2_d_w4 = x[1] * deriv_sigmoid(sum_h2)\n",
    "                d_h2_d_b2 = deriv_sigmoid(sum_h2)\n",
    "\n",
    "        # --- Обновляем веса и пороги\n",
    "        # Нейрон h1\n",
    "                self.w1 -= learn_rate * d_L_d_ypred * d_ypred_d_h1 * d_h1_d_w1\n",
    "                self.w2 -= learn_rate * d_L_d_ypred * d_ypred_d_h1 * d_h1_d_w2\n",
    "                self.b1 -= learn_rate * d_L_d_ypred * d_ypred_d_h1 * d_h1_d_b1\n",
    "\n",
    "        # Нейрон h2\n",
    "                self.w3 -= learn_rate * d_L_d_ypred * d_ypred_d_h2 * d_h2_d_w3\n",
    "                self.w4 -= learn_rate * d_L_d_ypred * d_ypred_d_h2 * d_h2_d_w4\n",
    "                self.b2 -= learn_rate * d_L_d_ypred * d_ypred_d_h2 * d_h2_d_b2\n",
    "\n",
    "        # Нейрон o1\n",
    "                self.w5 -= learn_rate * d_L_d_ypred * d_ypred_d_w5\n",
    "                self.w6 -= learn_rate * d_L_d_ypred * d_ypred_d_w6\n",
    "                self.b3 -= learn_rate * d_L_d_ypred * d_ypred_d_b3\n",
    "\n",
    "      # --- Считаем полные потери в конце каждой эпохи\n",
    "        if epoch % 10 == 0:\n",
    "            y_preds = np.apply_along_axis(self.feedforward, 1, data)\n",
    "            loss = mse_loss(all_y_trues, y_preds)\n",
    "            print(\"Epoch %d loss: %.3f\" % (epoch, loss))\n",
    "\n",
    "# Определим набор данных\n",
    "data = np.array([\n",
    "    [-2, -1],  # Алиса\n",
    "    [25, 6],   # Боб\n",
    "    [17, 4],   # Чарли\n",
    "    [-15, -6], # Диана\n",
    "])\n",
    "all_y_trues = np.array([\n",
    "    1, # Алиса\n",
    "    0, # Боб\n",
    "    0, # Чарли\n",
    "    1, # Диана\n",
    "])\n",
    "\n",
    "# Обучаем нашу нейронную сеть!\n",
    "network = OurNeuralNetwork()\n",
    "network.train(data, all_y_trues)"
   ]
  },
  {
   "cell_type": "code",
   "execution_count": null,
   "id": "54be162b",
   "metadata": {},
   "outputs": [
    {
     "name": "stdout",
     "output_type": "stream",
     "text": [
      "Эмили: 0.966\n",
      "Фрэнк: 0.056\n"
     ]
    }
   ],
   "source": [
    "emily = np.array([-7, -3]) # 128 фунтов (52.35 кг), 63 дюйма (160 см)\n",
    "frank = np.array([20, 2])  # 155 pounds (63.4 кг), 68 inches (173 см)\n",
    "print(\"Эмили: %.3f\" % network.feedforward(emily)) # 0.951 - Ж\n",
    "print(\"Фрэнк: %.3f\" % network.feedforward(frank)) # 0.039 - М"
   ]
  },
  {
   "cell_type": "code",
   "execution_count": null,
   "id": "55045233",
   "metadata": {},
   "outputs": [
    {
     "data": {
      "text/plain": [
       "{'a': 21, 'b': 95, 'c': 54, 'd': 900}"
      ]
     },
     "execution_count": 8,
     "metadata": {},
     "output_type": "execute_result"
    }
   ],
   "source": [
    "d={ 'a':21,\n",
    "    'b':95,\n",
    "    'c':54,\n",
    "    'd':900,\n",
    "    \n",
    "}\n",
    "d"
   ]
  },
  {
   "cell_type": "code",
   "execution_count": null,
   "id": "fe03fe43",
   "metadata": {},
   "outputs": [],
   "source": [
    "def f(d:dict):\n",
    "    s=[]\n",
    "    l=sorted(d.values())\n",
    "    k,m = l[-1],l[-2]\n",
    "    for i in d.keys():\n",
    "        if d[i]==k or d[i]==m:\n",
    "            s.append(i) \n",
    "    return s"
   ]
  },
  {
   "cell_type": "code",
   "execution_count": null,
   "id": "e4d7c74e",
   "metadata": {},
   "outputs": [],
   "source": [
    "a=[1,2,3,4,5,6,7,8,9]\n",
    "b=[9,8,7,6,5,4,3,2,1]\n",
    "for i in range(len(a)):\n",
    "    print(a[i])\n",
    "    print(b[i])"
   ]
  },
  {
   "cell_type": "code",
   "execution_count": null,
   "id": "9c727386",
   "metadata": {},
   "outputs": [
    {
     "data": {
      "text/plain": [
       "['b', 'd']"
      ]
     },
     "execution_count": 13,
     "metadata": {},
     "output_type": "execute_result"
    }
   ],
   "source": [
    "f(d)"
   ]
  },
  {
   "cell_type": "code",
   "execution_count": null,
   "id": "0e6dc728",
   "metadata": {},
   "outputs": [
    {
     "data": {
      "text/plain": [
       "dict_values([21, 95, 54, 900])"
      ]
     },
     "execution_count": 10,
     "metadata": {},
     "output_type": "execute_result"
    }
   ],
   "source": [
    "d.values()"
   ]
  },
  {
   "cell_type": "code",
   "execution_count": null,
   "id": "a724cfc0",
   "metadata": {},
   "outputs": [
    {
     "data": {
      "text/plain": [
       "['a', 'b', 'c', 'd']"
      ]
     },
     "execution_count": 11,
     "metadata": {},
     "output_type": "execute_result"
    }
   ],
   "source": [
    "sorted(d)"
   ]
  },
  {
   "cell_type": "code",
   "execution_count": null,
   "id": "15ef9f3d",
   "metadata": {},
   "outputs": [
    {
     "data": {
      "text/plain": [
       "54"
      ]
     },
     "execution_count": 12,
     "metadata": {},
     "output_type": "execute_result"
    }
   ],
   "source": [
    "d['c']"
   ]
  },
  {
   "cell_type": "code",
   "execution_count": null,
   "id": "4c8501b6",
   "metadata": {},
   "outputs": [
    {
     "name": "stdout",
     "output_type": "stream",
     "text": [
      "to be accidental in nature; to start off; to be at a fork on the road; in that spirit; to jump to the top of one’s priority list; to make good trades; to achieve a certain status; to go as well for …; to fit into free- enterprise economy; in retrospect; to go put into the world with a handicap; to compete with; to suffer from the problem; to share holders; to be the last thing of one’s mind; to assign someone to projects; to furnish the money and the equipment; to do something worthwhile; the corporate bird and bees; to make the most profit; to make sense to somebody; to keep from squandering time and valuable resources; the make money mindset; to keep track of progress; to balance effort outcome and resource requirements; to be free; to step outside oneself; to make chances; to risk failure; a research facility; to accomplish the goal; to require a new learning experience; to have a clue as to …; to keep reaching; the quest for versatility \n",
      "быть случайным по своей природе; начать с нуля; оказаться на развилке дорог; в таком духе; подняться на вершину списка своих приоритетов; совершать хорошие сделки; достичь определенного статуса; преуспеть в ...; вписаться в экономику свободного предпринимательства; оглядываясь назад; выходить в мир с ограниченными возможностями; конкурировать с кем-либо; страдать от проблемы; быть акционером; быть последним, о чем можно думать; поручать кому-то проекты; предоставлять деньги и оборудование; делать что-то стоящее; корпоративная птица и пчелы; получать максимальную прибыль; иметь смысл для кого-то; чтобы не тратить впустую время и ценные ресурсы; установка на зарабатывание денег; отслеживать прогресс; сбалансировать результат усилий и потребности в ресурсах; быть свободным; выходить за рамки самого себя; рисковать; рисковать неудачей; исследовательский центр; для достижения цели; требовать нового опыта обучения; иметь представление о том, как ...; продолжать достигать; стремление к универсальности\n",
      "to be accidental in nature|||быть случайным по своей природе\n",
      " to start off||| начать с нуля\n",
      " to be at a fork on the road||| оказаться на развилке дорог\n",
      " in that spirit||| в таком духе\n",
      " to jump to the top of one’s priority list||| подняться на вершину списка своих приоритетов\n",
      " to make good trades||| совершать хорошие сделки\n",
      " to achieve a certain status||| достичь определенного статуса\n",
      " to go as well for …||| преуспеть в ...\n",
      " to fit into free- enterprise economy||| вписаться в экономику свободного предпринимательства\n",
      " in retrospect||| оглядываясь назад\n",
      " to go put into the world with a handicap||| выходить в мир с ограниченными возможностями\n",
      " to compete with||| конкурировать с кем-либо\n",
      " to suffer from the problem||| страдать от проблемы\n",
      " to share holders||| быть акционером\n",
      " to be the last thing of one’s mind||| быть последним, о чем можно думать\n",
      " to assign someone to projects||| поручать кому-то проекты\n",
      " to furnish the money and the equipment||| предоставлять деньги и оборудование\n",
      " to do something worthwhile||| делать что-то стоящее\n",
      " the corporate bird and bees||| корпоративная птица и пчелы\n",
      " to make the most profit||| получать максимальную прибыль\n",
      " to make sense to somebody||| иметь смысл для кого-то\n",
      " to keep from squandering time and valuable resources||| чтобы не тратить впустую время и ценные ресурсы\n",
      " the make money mindset||| установка на зарабатывание денег\n",
      " to keep track of progress||| отслеживать прогресс\n",
      " to balance effort outcome and resource requirements||| сбалансировать результат усилий и потребности в ресурсах\n",
      " to be free||| быть свободным\n",
      " to step outside oneself||| выходить за рамки самого себя\n",
      " to make chances||| рисковать\n",
      " to risk failure||| рисковать неудачей\n",
      " a research facility||| исследовательский центр\n",
      " to accomplish the goal||| для достижения цели\n",
      " to require a new learning experience||| требовать нового опыта обучения\n",
      " to have a clue as to …||| иметь представление о том, как ...\n",
      " to keep reaching||| продолжать достигать\n",
      " the quest for versatility ||| стремление к универсальности\n"
     ]
    }
   ],
   "source": [
    "a=input()\n",
    "b=input()\n",
    "A=a.split(\";\")\n",
    "A=np.array(A)\n",
    "B=b.split(\";\")\n",
    "B=np.array(B)\n",
    "#b=input().split(';')\n",
    "for i in range(len(A)):\n",
    "    print(A[i]+'|||'+B[i])"
   ]
  },
  {
   "cell_type": "code",
   "execution_count": 5,
   "id": "e260eda5",
   "metadata": {},
   "outputs": [],
   "source": [
    "import random "
   ]
  },
  {
   "cell_type": "code",
   "execution_count": 6,
   "id": "58720402",
   "metadata": {},
   "outputs": [
    {
     "data": {
      "text/plain": [
       "[3,\n",
       " 2,\n",
       " 7,\n",
       " 4,\n",
       " 7,\n",
       " 4,\n",
       " 8,\n",
       " 3,\n",
       " 9,\n",
       " 9,\n",
       " 5,\n",
       " 5,\n",
       " 9,\n",
       " 7,\n",
       " 3,\n",
       " 6,\n",
       " 7,\n",
       " 8,\n",
       " 4,\n",
       " 7,\n",
       " 6,\n",
       " 9,\n",
       " 2,\n",
       " 10,\n",
       " 6,\n",
       " 3,\n",
       " 9,\n",
       " 3,\n",
       " 1,\n",
       " 10,\n",
       " 2,\n",
       " 2,\n",
       " 5,\n",
       " 3,\n",
       " 7,\n",
       " 2,\n",
       " 10,\n",
       " 9,\n",
       " 9,\n",
       " 4,\n",
       " 2,\n",
       " 10,\n",
       " 3,\n",
       " 1,\n",
       " 9,\n",
       " 3,\n",
       " 7,\n",
       " 2,\n",
       " 4,\n",
       " 8,\n",
       " 3,\n",
       " 4,\n",
       " 10,\n",
       " 6,\n",
       " 10,\n",
       " 8,\n",
       " 6,\n",
       " 6,\n",
       " 7,\n",
       " 6,\n",
       " 2,\n",
       " 9,\n",
       " 2,\n",
       " 5,\n",
       " 6,\n",
       " 6,\n",
       " 6,\n",
       " 4,\n",
       " 2,\n",
       " 8,\n",
       " 2,\n",
       " 6,\n",
       " 9,\n",
       " 7,\n",
       " 3,\n",
       " 1,\n",
       " 3,\n",
       " 9,\n",
       " 7,\n",
       " 2,\n",
       " 5,\n",
       " 6,\n",
       " 2,\n",
       " 2,\n",
       " 1,\n",
       " 6,\n",
       " 4,\n",
       " 2,\n",
       " 10,\n",
       " 2,\n",
       " 7,\n",
       " 9,\n",
       " 6,\n",
       " 4,\n",
       " 1,\n",
       " 1,\n",
       " 5,\n",
       " 3,\n",
       " 6,\n",
       " 4]"
      ]
     },
     "execution_count": 6,
     "metadata": {},
     "output_type": "execute_result"
    }
   ],
   "source": [
    "A=[]\n",
    "k=0\n",
    "while k<100:\n",
    "    A.append(random.randint(1,10))\n",
    "    k+=1\n",
    "A"
   ]
  },
  {
   "cell_type": "code",
   "execution_count": 9,
   "id": "1e235587",
   "metadata": {},
   "outputs": [
    {
     "name": "stdout",
     "output_type": "stream",
     "text": [
      "0\n",
      "6\n",
      "16\n",
      "12\n",
      "10\n",
      "6\n",
      "15\n",
      "11\n",
      "5\n",
      "12\n",
      "7\n"
     ]
    }
   ],
   "source": [
    "A\n",
    "for i in range(0,11):\n",
    "    print(A.count(i))\n"
   ]
  },
  {
   "cell_type": "code",
   "execution_count": 15,
   "id": "74894f93",
   "metadata": {},
   "outputs": [],
   "source": [
    "import numpy as np"
   ]
  },
  {
   "cell_type": "code",
   "execution_count": 16,
   "id": "718043da",
   "metadata": {},
   "outputs": [
    {
     "data": {
      "text/plain": [
       "100"
      ]
     },
     "execution_count": 16,
     "metadata": {},
     "output_type": "execute_result"
    }
   ],
   "source": [
    "np.sum([0,6,16,12,10,6,15,11,5,12,7])"
   ]
  },
  {
   "cell_type": "code",
   "execution_count": 17,
   "id": "8f1604ca",
   "metadata": {},
   "outputs": [],
   "source": [
    "def pooled_standard_error(a, b, unbias=False):\n",
    "    '''Объединенная стандартная ошибка'''\n",
    "    std1 = a.std(ddof=0) if unbias==False else a.std() \n",
    "    std2 = b.std(ddof=0) if unbias==False else b.std()\n",
    "    x = std1 ** 2 / a.count()\n",
    "    y = std2 ** 2 / b.count()\n",
    "    return sp.sqrt(x + y)"
   ]
  },
  {
   "cell_type": "code",
   "execution_count": 18,
   "id": "92ae1c66",
   "metadata": {},
   "outputs": [],
   "source": [
    "def z_stat(a, b, unbias=False):\n",
    "    return (a.mean() - b.mean()) / pooled_standard_error(a, b, unbias)"
   ]
  },
  {
   "cell_type": "code",
   "execution_count": 19,
   "id": "3a6515cb",
   "metadata": {},
   "outputs": [],
   "source": [
    "def z_test(a, b): \n",
    "    return stats.norm.cdf([ z_stat(a, b) ])"
   ]
  },
  {
   "cell_type": "code",
   "execution_count": 32,
   "id": "15ba6a8f",
   "metadata": {},
   "outputs": [],
   "source": [
    "def ex_2_14():\n",
    "    '''Сравнение результативности двух вариантов\n",
    "       дизайна веб-сайта на основе z-теста'''\n",
    "    groups = load_data('new-site.tsv').groupby('site')['dwell-time']\n",
    "    a = groups.get_group(0)\n",
    "    b = groups.get_group(1) \n",
    "    \n",
    "    print('a n:         ', a.count())\n",
    "    print('b n:         ', b.count())\n",
    "    print('z-статистика:', z_stat(a, b))\n",
    "    print('p-значение:  ', z_test(a, b))"
   ]
  },
  {
   "attachments": {},
   "cell_type": "markdown",
   "id": "9c07932f",
   "metadata": {},
   "source": [
    "a n:          284\n",
    "b n:          16\n",
    "z-статистика: -1.6467438180091214\n",
    "p-значение:   [0.04980536]"
   ]
  },
  {
   "cell_type": "code",
   "execution_count": 33,
   "id": "dd211bb3",
   "metadata": {},
   "outputs": [],
   "source": [
    "def pooled_standard_error_t(a, b):  \n",
    "    '''Объединенная стандартная ошибка для t-теста'''\n",
    "    return sp.sqrt(standard_error(a) ** 2 + \n",
    "                   standard_error(b) ** 2)"
   ]
  },
  {
   "cell_type": "code",
   "execution_count": 28,
   "id": "0782e69d",
   "metadata": {},
   "outputs": [],
   "source": [
    "t_stat = z_stat\n",
    "\n",
    "def ex_2_15():\n",
    "    '''Вычисление t-статистики \n",
    "       двух вариантов дизайна веб-сайта'''\n",
    "    groups = load_data('new-site.tsv').groupby('site')['dwell-time']\n",
    "    a = groups.get_group(0)\n",
    "    b = groups.get_group(1)    \n",
    "    return t_stat(a, b)"
   ]
  },
  {
   "cell_type": "code",
   "execution_count": 34,
   "id": "da113f2a",
   "metadata": {},
   "outputs": [],
   "source": [
    "def t_test(a, b):\n",
    "    df = len(a) + len(b) - 2\n",
    "    return stats.t.sf([ abs(t_stat(a, b)) ], df)"
   ]
  },
  {
   "cell_type": "code",
   "execution_count": 30,
   "id": "7f83eb41",
   "metadata": {},
   "outputs": [],
   "source": [
    "def ex_2_16():\n",
    "    '''Сравнение результативности двух вариантов \n",
    "       дизайна веб-сайта на основе t-теста'''\n",
    "    groups = load_data('new-site.tsv').groupby('site')['dwell-time']\n",
    "    a = groups.get_group(0)\n",
    "    b = groups.get_group(1)   \n",
    "    return t_test(a, b)"
   ]
  },
  {
   "cell_type": "code",
   "execution_count": 35,
   "id": "117c7257",
   "metadata": {},
   "outputs": [],
   "source": [
    "def ex_2_17():\n",
    "    '''Двухсторонний t-тест'''\n",
    "    groups = load_data('new-site.tsv').groupby('site')['dwell-time']\n",
    "    a = groups.get_group(0)\n",
    "    b = groups.get_group(1)    \n",
    "    return t_test_verbose(a, sample2=b, fn=stats.ttest_ind) #t-тест Уэлша"
   ]
  },
  {
   "attachments": {},
   "cell_type": "markdown",
   "id": "66155df3",
   "metadata": {},
   "source": [
    "Учитывая массив целых чисел nums и целое число target, верните индексы двух чисел так, чтобы они составляли в суммеtarget .\n",
    "\n",
    "Вы можете предположить, что каждый вход будет иметь ровно одно решение , и вы не можете использовать один и тот же элемент дважды.\n",
    "\n",
    "Вы можете вернуть ответ в любом порядке.\n",
    "\n",
    "Ввод: nums = [2,7,11,15], target = 9\n",
    "\n",
    " Вывод: [0,1]\n",
    " \n",
    " Объяснение: Поскольку nums[0] + nums[1] == 9, мы возвращаем [0, 1]."
   ]
  },
  {
   "cell_type": "code",
   "execution_count": null,
   "id": "4b03dd1a",
   "metadata": {},
   "outputs": [],
   "source": []
  },
  {
   "cell_type": "code",
   "execution_count": null,
   "id": "efc2b8d4",
   "metadata": {},
   "outputs": [],
   "source": []
  }
 ],
 "metadata": {
  "kernelspec": {
   "display_name": "Python 3 (ipykernel)",
   "language": "python",
   "name": "python3"
  },
  "language_info": {
   "codemirror_mode": {
    "name": "ipython",
    "version": 3
   },
   "file_extension": ".py",
   "mimetype": "text/x-python",
   "name": "python",
   "nbconvert_exporter": "python",
   "pygments_lexer": "ipython3",
   "version": "3.9.12"
  }
 },
 "nbformat": 4,
 "nbformat_minor": 5
}
