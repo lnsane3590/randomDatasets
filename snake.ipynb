{
 "cells": [
  {
   "cell_type": "code",
   "execution_count": 1,
   "metadata": {},
   "outputs": [
    {
     "name": "stdout",
     "output_type": "stream",
     "text": [
      "Collecting pygame\n",
      "  Downloading pygame-2.4.0-cp39-cp39-win_amd64.whl (10.6 MB)\n",
      "Installing collected packages: pygame\n",
      "Successfully installed pygame-2.4.0\n",
      "Note: you may need to restart the kernel to use updated packages.\n"
     ]
    }
   ],
   "source": [
    "pip install pygame"
   ]
  },
  {
   "cell_type": "code",
   "execution_count": 1,
   "metadata": {},
   "outputs": [
    {
     "name": "stdout",
     "output_type": "stream",
     "text": [
      "pygame 2.4.0 (SDL 2.26.4, Python 3.9.12)\n",
      "Hello from the pygame community. https://www.pygame.org/contribute.html\n"
     ]
    }
   ],
   "source": [
    "import random\n",
    "\n",
    "import pygame as pg\n",
    "\n",
    "WSIZE = (720, 480)\n",
    "\n",
    "screen = pg.display.set_mode(WSIZE)\n",
    "\n",
    "TSIDE = 30\n",
    "MSIZE = WSIZE[0] // TSIDE, WSIZE[1] // TSIDE\n",
    "\n",
    "start_pos = MSIZE[0] // 2, MSIZE[1] // 2\n",
    "snake = [start_pos]\n",
    "alive = True\n",
    "\n",
    "direction = 0\n",
    "directions = [(1, 0), (0, 1), (-1, 0), (0, -1)]\n",
    "\n",
    "apple = random.randint(0, MSIZE[0]-1), random.randint(0, MSIZE[1]-1)\n",
    "\n",
    "fps = 5\n",
    "clock = pg.time.Clock()\n",
    "\n",
    "pg.font.init()\n",
    "font_score = pg.font.SysFont(\"Arial\", 25)\n",
    "font_gameover = pg.font.SysFont(\"Arial\", 45)\n",
    "font_space = pg.font.SysFont(\"Arial\", 18)\n",
    "\n",
    "running = True\n",
    "while running:\n",
    "    clock.tick(fps)\n",
    "    screen.fill(\"black\")\n",
    "    for event in pg.event.get():\n",
    "        if event.type == pg.QUIT:\n",
    "            running = False\n",
    "        if event.type == pg.KEYDOWN:\n",
    "            if alive:\n",
    "                if event.key == pg.K_RIGHT and direction != 2:\n",
    "                    direction = 0\n",
    "                if event.key == pg.K_DOWN and direction != 3:\n",
    "                    direction = 1\n",
    "                if event.key == pg.K_LEFT and direction != 0:\n",
    "                    direction = 2\n",
    "                if event.key == pg.K_UP and direction != 1:\n",
    "                    direction = 3\n",
    "            else:\n",
    "                if event.key == pg.K_SPACE:\n",
    "                    alive = True\n",
    "                    snake = [start_pos]\n",
    "                    apple = random.randint(0, MSIZE[0]-1), random.randint(0, MSIZE[1]-1)\n",
    "                    fps = 5\n",
    "\n",
    "    [pg.draw.rect(screen, \"green\", (x * TSIDE, y * TSIDE, TSIDE - 1, TSIDE - 1)) for x, y in snake]\n",
    "    pg.draw.rect(screen, \"red\", (apple[0] * TSIDE, apple[1] * TSIDE, TSIDE - 1, TSIDE - 1))\n",
    "\n",
    "    if alive:\n",
    "        new_pos = snake[0][0] + directions[direction][0], snake[0][1] + directions[direction][1]\n",
    "        if not (0 <= new_pos[0] < MSIZE[0] and 0 <= new_pos[1] < MSIZE[1]) or \\\n",
    "                new_pos in snake:\n",
    "            alive = False\n",
    "        else:\n",
    "            snake.insert(0, new_pos)\n",
    "            if new_pos == apple:\n",
    "                fps += 1\n",
    "                apple = random.randint(0, MSIZE[0]-1), random.randint(0, MSIZE[1]-1)\n",
    "            else:\n",
    "                snake.pop(-1)\n",
    "    else:\n",
    "        text = font_gameover.render(f\"GAME OVER\", True, \"white\")\n",
    "        screen.blit(text, (WSIZE[0] // 2 - text.get_width()//2, WSIZE[1] // 2 - 50))\n",
    "        text = font_space.render(f\"Press SPACE for restart\", True, \"white\")\n",
    "        screen.blit(text, (WSIZE[0] // 2 - text.get_width() // 2, WSIZE[1] // 2 + 10))\n",
    "    screen.blit(font_score.render(f\"Score: {len(snake)}\", True, \"yellow\"), (5, 5))\n",
    "\n",
    "    pg.display.flip()"
   ]
  },
  {
   "cell_type": "code",
   "execution_count": null,
   "metadata": {},
   "outputs": [],
   "source": []
  }
 ],
 "metadata": {
  "kernelspec": {
   "display_name": "base",
   "language": "python",
   "name": "python3"
  },
  "language_info": {
   "codemirror_mode": {
    "name": "ipython",
    "version": 3
   },
   "file_extension": ".py",
   "mimetype": "text/x-python",
   "name": "python",
   "nbconvert_exporter": "python",
   "pygments_lexer": "ipython3",
   "version": "3.9.12"
  },
  "orig_nbformat": 4
 },
 "nbformat": 4,
 "nbformat_minor": 2
}
